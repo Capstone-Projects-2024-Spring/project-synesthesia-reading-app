{
 "cells": [
  {
   "cell_type": "code",
   "execution_count": 1,
   "id": "initial_id",
   "metadata": {
    "ExecuteTime": {
     "end_time": "2024-03-22T19:41:39.842962Z",
     "start_time": "2024-03-22T19:41:39.827840Z"
    },
    "collapsed": true
   },
   "outputs": [
    {
     "name": "stdout",
     "output_type": "stream",
     "text": [
      "Using device:  cpu\n"
     ]
    }
   ],
   "source": [
    "import numpy as np\n",
    "import pandas as pd\n",
    "import torch\n",
    "import torch.nn as nn\n",
    "from torch.utils.data import Dataset, DataLoader\n",
    "\n",
    " # device = torch.device(\"mps\" if torch.backends.mps.is_available() else \"cpu\")\n",
    "device = torch.device(\"cude\" if torch.cuda.is_available() else \"cpu\")\n",
    "print('Using device: ', device)\n",
    "\n",
    "df = pd.read_csv('./output/colors_2024-03-22T18-04-05.csv')\n"
   ]
  },
  {
   "cell_type": "code",
   "execution_count": 39,
   "id": "881ada5e1191a63c",
   "metadata": {
    "ExecuteTime": {
     "end_time": "2024-03-22T19:41:39.870110Z",
     "start_time": "2024-03-22T19:41:39.844039Z"
    },
    "collapsed": false
   },
   "outputs": [
    {
     "name": "stdout",
     "output_type": "stream",
     "text": [
      "<class 'pandas.core.frame.DataFrame'>\n",
      "RangeIndex: 1080 entries, 0 to 1079\n",
      "Data columns (total 4 columns):\n",
      " #   Column  Non-Null Count  Dtype \n",
      "---  ------  --------------  ----- \n",
      " 0   word    1080 non-null   object\n",
      " 1   r       1080 non-null   int64 \n",
      " 2   g       1080 non-null   int64 \n",
      " 3   b       1080 non-null   int64 \n",
      "dtypes: int64(3), object(1)\n",
      "memory usage: 33.9+ KB\n"
     ]
    },
    {
     "data": {
      "text/html": [
       "<div>\n",
       "<style scoped>\n",
       "    .dataframe tbody tr th:only-of-type {\n",
       "        vertical-align: middle;\n",
       "    }\n",
       "\n",
       "    .dataframe tbody tr th {\n",
       "        vertical-align: top;\n",
       "    }\n",
       "\n",
       "    .dataframe thead th {\n",
       "        text-align: right;\n",
       "    }\n",
       "</style>\n",
       "<table border=\"1\" class=\"dataframe\">\n",
       "  <thead>\n",
       "    <tr style=\"text-align: right;\">\n",
       "      <th></th>\n",
       "      <th>word</th>\n",
       "      <th>r</th>\n",
       "      <th>g</th>\n",
       "      <th>b</th>\n",
       "    </tr>\n",
       "  </thead>\n",
       "  <tbody>\n",
       "    <tr>\n",
       "      <th>0</th>\n",
       "      <td>A</td>\n",
       "      <td>113</td>\n",
       "      <td>221</td>\n",
       "      <td>120</td>\n",
       "    </tr>\n",
       "    <tr>\n",
       "      <th>1</th>\n",
       "      <td>B</td>\n",
       "      <td>53</td>\n",
       "      <td>191</td>\n",
       "      <td>116</td>\n",
       "    </tr>\n",
       "    <tr>\n",
       "      <th>2</th>\n",
       "      <td>C</td>\n",
       "      <td>181</td>\n",
       "      <td>61</td>\n",
       "      <td>238</td>\n",
       "    </tr>\n",
       "    <tr>\n",
       "      <th>3</th>\n",
       "      <td>D</td>\n",
       "      <td>84</td>\n",
       "      <td>179</td>\n",
       "      <td>60</td>\n",
       "    </tr>\n",
       "    <tr>\n",
       "      <th>4</th>\n",
       "      <td>E</td>\n",
       "      <td>22</td>\n",
       "      <td>64</td>\n",
       "      <td>85</td>\n",
       "    </tr>\n",
       "    <tr>\n",
       "      <th>...</th>\n",
       "      <td>...</td>\n",
       "      <td>...</td>\n",
       "      <td>...</td>\n",
       "      <td>...</td>\n",
       "    </tr>\n",
       "    <tr>\n",
       "      <th>1075</th>\n",
       "      <td>castle</td>\n",
       "      <td>181</td>\n",
       "      <td>61</td>\n",
       "      <td>238</td>\n",
       "    </tr>\n",
       "    <tr>\n",
       "      <th>1076</th>\n",
       "      <td>broad</td>\n",
       "      <td>53</td>\n",
       "      <td>191</td>\n",
       "      <td>116</td>\n",
       "    </tr>\n",
       "    <tr>\n",
       "      <th>1077</th>\n",
       "      <td>long</td>\n",
       "      <td>113</td>\n",
       "      <td>58</td>\n",
       "      <td>208</td>\n",
       "    </tr>\n",
       "    <tr>\n",
       "      <th>1078</th>\n",
       "      <td>could</td>\n",
       "      <td>181</td>\n",
       "      <td>61</td>\n",
       "      <td>238</td>\n",
       "    </tr>\n",
       "    <tr>\n",
       "      <th>1079</th>\n",
       "      <td>my</td>\n",
       "      <td>231</td>\n",
       "      <td>168</td>\n",
       "      <td>70</td>\n",
       "    </tr>\n",
       "  </tbody>\n",
       "</table>\n",
       "<p>1080 rows × 4 columns</p>\n",
       "</div>"
      ],
      "text/plain": [
       "        word    r    g    b\n",
       "0          A  113  221  120\n",
       "1          B   53  191  116\n",
       "2          C  181   61  238\n",
       "3          D   84  179   60\n",
       "4          E   22   64   85\n",
       "...      ...  ...  ...  ...\n",
       "1075  castle  181   61  238\n",
       "1076   broad   53  191  116\n",
       "1077    long  113   58  208\n",
       "1078   could  181   61  238\n",
       "1079      my  231  168   70\n",
       "\n",
       "[1080 rows x 4 columns]"
      ]
     },
     "metadata": {},
     "output_type": "display_data"
    }
   ],
   "source": [
    "df.info()\n",
    "display(df)"
   ]
  },
  {
   "cell_type": "code",
   "execution_count": 2,
   "id": "b860598ed5d2ddaf",
   "metadata": {
    "ExecuteTime": {
     "end_time": "2024-03-22T19:41:39.892560Z",
     "start_time": "2024-03-22T19:41:39.870986Z"
    },
    "collapsed": false
   },
   "outputs": [
    {
     "name": "stdout",
     "output_type": "stream",
     "text": [
      "torch.Size([1080, 45])\n",
      "torch.Size([45])\n"
     ]
    }
   ],
   "source": [
    "# turn loaded dataframe into torch tensors\n",
    "from word_encoding import WordEncoder\n",
    "\n",
    "we = WordEncoder()\n",
    "\n",
    "inputs_list = we.encode_list(df['word'])\n",
    "inputs = torch.tensor((len(inputs_list),1,45), dtype=torch.float)\n",
    "inputs = torch.cat(inputs_list, dim=0)\n",
    "print(inputs.shape)\n",
    "torch.save(inputs, 'inputs0.pt')\n",
    "print(inputs[0].shape)"
   ]
  },
  {
   "cell_type": "markdown",
   "id": "d6f9b62ceb629bef",
   "metadata": {
    "collapsed": false
   },
   "source": []
  },
  {
   "cell_type": "code",
   "execution_count": 3,
   "id": "e425d0997aa18559",
   "metadata": {
    "ExecuteTime": {
     "end_time": "2024-03-22T19:41:39.897643Z",
     "start_time": "2024-03-22T19:41:39.894020Z"
    },
    "collapsed": false
   },
   "outputs": [
    {
     "name": "stdout",
     "output_type": "stream",
     "text": [
      "torch.Size([1080, 3])\n"
     ]
    }
   ],
   "source": [
    "outputs = torch.tensor(df.drop(['word'],axis='columns').values)\n",
    "print(outputs.shape)\n",
    "torch.save(outputs, 'outputs0.pt')"
   ]
  },
  {
   "cell_type": "code",
   "execution_count": 4,
   "id": "f9aa04118900166f",
   "metadata": {
    "ExecuteTime": {
     "end_time": "2024-03-22T19:41:39.901246Z",
     "start_time": "2024-03-22T19:41:39.898608Z"
    },
    "collapsed": false
   },
   "outputs": [],
   "source": [
    "# create dataset class to take inputs & outputs\n",
    "class Data(Dataset):\n",
    "    # Constructor\n",
    "    def __init__(self, inputs, outputs):\n",
    "        self.x = inputs\n",
    "        self.x = self.x.to(device)\n",
    "        self.y = outputs\n",
    "        self.y = self.y.to(device)\n",
    "        self.len = len(inputs)\n",
    "    \n",
    "    # Getter\n",
    "    def __getitem__(self, index):\n",
    "        return self.x[index], self.y[index]\n",
    "    \n",
    "    # Get number of samples\n",
    "    def __len__(self):\n",
    "        return self.len"
   ]
  },
  {
   "cell_type": "code",
   "execution_count": 5,
   "id": "c2c766830620e28e",
   "metadata": {
    "ExecuteTime": {
     "end_time": "2024-03-22T19:41:39.905876Z",
     "start_time": "2024-03-22T19:41:39.902005Z"
    },
    "collapsed": false
   },
   "outputs": [],
   "source": [
    "# Making Model\n",
    "class ColorPredictor(torch.nn.Module):\n",
    "    #Constructor\n",
    "    def __init__(self):\n",
    "        super(ColorPredictor, self).__init__()\n",
    "        self.linear1 = torch.nn.Linear(45, 20, device= device) #length of encoded word vectors\n",
    "        self.linear2 = torch.nn.Linear(20,10, device= device)\n",
    "        self.linear3 = torch.nn.Linear(10,3, device=device)\n",
    "        self.reLU = torch.nn.ReLU()\n",
    "        \n",
    "    # Prediction\n",
    "    def forward(self, x: torch.Tensor) -> torch.Tensor:\n",
    "        out = self.linear1(x)\n",
    "        out = self.reLU(out)\n",
    "        out = self.linear2(out)\n",
    "        out = self.reLU(out)\n",
    "        out = self.linear3(out)\n",
    "        return out"
   ]
  },
  {
   "cell_type": "code",
   "execution_count": 6,
   "id": "58e2c0d9df94ea0d",
   "metadata": {
    "ExecuteTime": {
     "end_time": "2024-03-22T19:41:39.910457Z",
     "start_time": "2024-03-22T19:41:39.906628Z"
    },
    "collapsed": false
   },
   "outputs": [
    {
     "data": {
      "text/plain": [
       "ColorPredictor(\n",
       "  (linear1): Linear(in_features=45, out_features=20, bias=True)\n",
       "  (linear2): Linear(in_features=20, out_features=10, bias=True)\n",
       "  (linear3): Linear(in_features=10, out_features=3, bias=True)\n",
       "  (reLU): ReLU()\n",
       ")"
      ]
     },
     "execution_count": 6,
     "metadata": {},
     "output_type": "execute_result"
    }
   ],
   "source": [
    "# Create model\n",
    "\n",
    "model = ColorPredictor()\n",
    "model.to(device)\n"
   ]
  },
  {
   "cell_type": "code",
   "execution_count": 7,
   "id": "2269999370cc2734",
   "metadata": {
    "ExecuteTime": {
     "end_time": "2024-03-22T19:41:39.915051Z",
     "start_time": "2024-03-22T19:41:39.911159Z"
    },
    "collapsed": false
   },
   "outputs": [
    {
     "name": "stdout",
     "output_type": "stream",
     "text": [
      "864\n"
     ]
    }
   ],
   "source": [
    "# create train/test split\n",
    "train_size = int(0.8 * len(inputs))\n",
    "print(train_size)\n",
    "train_data = Data(inputs[:train_size], outputs[:train_size])\n",
    "test_data = Data(inputs[train_size:], outputs[train_size:])"
   ]
  },
  {
   "cell_type": "code",
   "execution_count": 8,
   "id": "2941de52ae0a2892",
   "metadata": {
    "ExecuteTime": {
     "end_time": "2024-03-22T19:41:39.925881Z",
     "start_time": "2024-03-22T19:41:39.916606Z"
    },
    "collapsed": false
   },
   "outputs": [],
   "source": [
    "# create DataLoaders\n",
    "train_loader = DataLoader(dataset = train_data, batch_size=2)\n",
    "test_loader = DataLoader(dataset = test_data, batch_size=2)"
   ]
  },
  {
   "cell_type": "code",
   "execution_count": 9,
   "id": "a5833d7bc464d396",
   "metadata": {
    "ExecuteTime": {
     "end_time": "2024-03-22T19:41:39.932721Z",
     "start_time": "2024-03-22T19:41:39.929765Z"
    },
    "collapsed": false
   },
   "outputs": [],
   "source": [
    "# criterion & optimizer\n",
    "criterion = nn.MSELoss()\n",
    "#criterion = nn.L1Loss()\n",
    "optimizer = torch.optim.AdamW(model.parameters())"
   ]
  },
  {
   "cell_type": "code",
   "execution_count": 48,
   "id": "a769fc8adfa2ba38",
   "metadata": {
    "ExecuteTime": {
     "end_time": "2024-03-22T19:43:46.671191Z",
     "start_time": "2024-03-22T19:41:39.933602Z"
    },
    "collapsed": false
   },
   "outputs": [
    {
     "name": "stdout",
     "output_type": "stream",
     "text": [
      "Best MSE: 545.8510131835938\n"
     ]
    }
   ],
   "source": [
    "# train & test loops\n",
    "import copy\n",
    "import numpy as np\n",
    "torch.manual_seed(42)\n",
    "\n",
    "epochs = 1000\n",
    "\n",
    "epoch_count = []\n",
    "loss_values = []\n",
    "test_loss_values = []\n",
    "best_mse = np.inf\n",
    "best_weights = None\n",
    "history = []\n",
    "\n",
    "\n",
    "for epoch in range(epochs):\n",
    "    # Train\n",
    "    model.train()\n",
    "    for x,y in train_loader:\n",
    "        y_pred = model(x)\n",
    "        loss = criterion(y_pred.float(), y.float())\n",
    "        optimizer.zero_grad()\n",
    "        loss.backward()\n",
    "        optimizer.step()\n",
    "        \n",
    "        \n",
    "     # test\n",
    "    model.eval()\n",
    "    for x,y in test_loader:\n",
    "        test_pred = model(x)           \n",
    "        test_loss = criterion(test_pred, y)\n",
    "        history.append(test_loss)\n",
    "        if test_loss < best_mse:\n",
    "            best_mse = test_loss\n",
    "            best_weights = copy.deepcopy(model.state_dict())\n",
    "            \n",
    "\n",
    "print(f'Best MSE: {best_mse}')\n",
    "       \n",
    " \n",
    "    "
   ]
  },
  {
   "cell_type": "code",
   "execution_count": 49,
   "id": "818c289b46251cea",
   "metadata": {
    "ExecuteTime": {
     "end_time": "2024-03-22T19:43:46.681117Z",
     "start_time": "2024-03-22T19:43:46.679388Z"
    },
    "collapsed": false
   },
   "outputs": [],
   "source": []
  }
 ],
 "metadata": {
  "kernelspec": {
   "display_name": "Python 3",
   "language": "python",
   "name": "python3"
  },
  "language_info": {
   "codemirror_mode": {
    "name": "ipython",
    "version": 3
   },
   "file_extension": ".py",
   "mimetype": "text/x-python",
   "name": "python",
   "nbconvert_exporter": "python",
   "pygments_lexer": "ipython3",
   "version": "3.10.10"
  }
 },
 "nbformat": 4,
 "nbformat_minor": 5
}
