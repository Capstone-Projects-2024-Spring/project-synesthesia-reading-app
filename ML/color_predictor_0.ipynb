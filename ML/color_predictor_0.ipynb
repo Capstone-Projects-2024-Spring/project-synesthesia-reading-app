{
 "cells": [
  {
   "cell_type": "code",
   "execution_count": 390,
   "id": "initial_id",
   "metadata": {
    "collapsed": true,
    "ExecuteTime": {
     "end_time": "2024-03-24T21:11:57.906517Z",
     "start_time": "2024-03-24T21:11:57.892894Z"
    }
   },
   "outputs": [
    {
     "name": "stdout",
     "output_type": "stream",
     "text": [
      "Using device:  cpu\n"
     ]
    }
   ],
   "source": [
    "import numpy as np\n",
    "import pandas as pd\n",
    "import torch\n",
    "import torch.nn as nn\n",
    "from torch.utils.data import Dataset, DataLoader\n",
    "\n",
    " # device = torch.device(\"mps\" if torch.backends.mps.is_available() else \"cpu\")\n",
    "device = torch.device(\"cuda\" if torch.cuda.is_available() else \"cpu\")\n",
    "print('Using device: ', device)\n",
    "\n",
    "df = pd.read_csv('./output/colors_2024-03-22T18-04-05.csv')\n"
   ]
  },
  {
   "cell_type": "code",
   "execution_count": 391,
   "id": "881ada5e1191a63c",
   "metadata": {
    "collapsed": false,
    "ExecuteTime": {
     "end_time": "2024-03-24T21:11:57.917337Z",
     "start_time": "2024-03-24T21:11:57.908021Z"
    }
   },
   "outputs": [
    {
     "name": "stdout",
     "output_type": "stream",
     "text": [
      "<class 'pandas.core.frame.DataFrame'>\n",
      "RangeIndex: 1080 entries, 0 to 1079\n",
      "Data columns (total 4 columns):\n",
      " #   Column  Non-Null Count  Dtype \n",
      "---  ------  --------------  ----- \n",
      " 0   word    1080 non-null   object\n",
      " 1   r       1080 non-null   int64 \n",
      " 2   g       1080 non-null   int64 \n",
      " 3   b       1080 non-null   int64 \n",
      "dtypes: int64(3), object(1)\n",
      "memory usage: 33.9+ KB\n"
     ]
    },
    {
     "data": {
      "text/plain": "        word    r    g    b\n0          A  113  221  120\n1          B   53  191  116\n2          C  181   61  238\n3          D   84  179   60\n4          E   22   64   85\n...      ...  ...  ...  ...\n1075  castle  181   61  238\n1076   broad   53  191  116\n1077    long  113   58  208\n1078   could  181   61  238\n1079      my  231  168   70\n\n[1080 rows x 4 columns]",
      "text/html": "<div>\n<style scoped>\n    .dataframe tbody tr th:only-of-type {\n        vertical-align: middle;\n    }\n\n    .dataframe tbody tr th {\n        vertical-align: top;\n    }\n\n    .dataframe thead th {\n        text-align: right;\n    }\n</style>\n<table border=\"1\" class=\"dataframe\">\n  <thead>\n    <tr style=\"text-align: right;\">\n      <th></th>\n      <th>word</th>\n      <th>r</th>\n      <th>g</th>\n      <th>b</th>\n    </tr>\n  </thead>\n  <tbody>\n    <tr>\n      <th>0</th>\n      <td>A</td>\n      <td>113</td>\n      <td>221</td>\n      <td>120</td>\n    </tr>\n    <tr>\n      <th>1</th>\n      <td>B</td>\n      <td>53</td>\n      <td>191</td>\n      <td>116</td>\n    </tr>\n    <tr>\n      <th>2</th>\n      <td>C</td>\n      <td>181</td>\n      <td>61</td>\n      <td>238</td>\n    </tr>\n    <tr>\n      <th>3</th>\n      <td>D</td>\n      <td>84</td>\n      <td>179</td>\n      <td>60</td>\n    </tr>\n    <tr>\n      <th>4</th>\n      <td>E</td>\n      <td>22</td>\n      <td>64</td>\n      <td>85</td>\n    </tr>\n    <tr>\n      <th>...</th>\n      <td>...</td>\n      <td>...</td>\n      <td>...</td>\n      <td>...</td>\n    </tr>\n    <tr>\n      <th>1075</th>\n      <td>castle</td>\n      <td>181</td>\n      <td>61</td>\n      <td>238</td>\n    </tr>\n    <tr>\n      <th>1076</th>\n      <td>broad</td>\n      <td>53</td>\n      <td>191</td>\n      <td>116</td>\n    </tr>\n    <tr>\n      <th>1077</th>\n      <td>long</td>\n      <td>113</td>\n      <td>58</td>\n      <td>208</td>\n    </tr>\n    <tr>\n      <th>1078</th>\n      <td>could</td>\n      <td>181</td>\n      <td>61</td>\n      <td>238</td>\n    </tr>\n    <tr>\n      <th>1079</th>\n      <td>my</td>\n      <td>231</td>\n      <td>168</td>\n      <td>70</td>\n    </tr>\n  </tbody>\n</table>\n<p>1080 rows × 4 columns</p>\n</div>"
     },
     "metadata": {},
     "output_type": "display_data"
    }
   ],
   "source": [
    "df.info()\n",
    "display(df)"
   ]
  },
  {
   "cell_type": "code",
   "execution_count": 392,
   "id": "b860598ed5d2ddaf",
   "metadata": {
    "collapsed": false,
    "ExecuteTime": {
     "end_time": "2024-03-24T21:11:57.945818Z",
     "start_time": "2024-03-24T21:11:57.918139Z"
    }
   },
   "outputs": [
    {
     "name": "stdout",
     "output_type": "stream",
     "text": [
      "torch.Size([1080, 45])\n",
      "torch.Size([45])\n"
     ]
    }
   ],
   "source": [
    "# turn loaded dataframe into torch tensors\n",
    "from word_encoding import WordEncoder\n",
    "\n",
    "we = WordEncoder()\n",
    "\n",
    "inputs_list = we.encode_list(df['word'])\n",
    "inputs = torch.tensor((len(inputs_list),1,45), dtype=torch.float)\n",
    "inputs = torch.cat(inputs_list, dim=0)\n",
    "print(inputs.shape)\n",
    "torch.save(inputs, 'inputs0.pt')\n",
    "print(inputs[0].shape)\n"
   ]
  },
  {
   "cell_type": "code",
   "execution_count": 393,
   "id": "e425d0997aa18559",
   "metadata": {
    "collapsed": false,
    "ExecuteTime": {
     "end_time": "2024-03-24T21:11:57.950780Z",
     "start_time": "2024-03-24T21:11:57.947298Z"
    }
   },
   "outputs": [
    {
     "name": "stdout",
     "output_type": "stream",
     "text": [
      "torch.Size([1080, 3])\n",
      "torch.Size([3])\n"
     ]
    }
   ],
   "source": [
    "outputs = torch.tensor(df.drop(['word'],axis='columns').values)\n",
    "print(outputs.shape)\n",
    "print(outputs[0].shape)\n",
    "torch.save(outputs, 'outputs0.pt')"
   ]
  },
  {
   "cell_type": "code",
   "execution_count": 394,
   "id": "f9aa04118900166f",
   "metadata": {
    "collapsed": false,
    "ExecuteTime": {
     "end_time": "2024-03-24T21:11:57.953530Z",
     "start_time": "2024-03-24T21:11:57.951414Z"
    }
   },
   "outputs": [],
   "source": [
    "# create dataset class to take inputs & outputs\n",
    "class Data(Dataset):\n",
    "    # Constructor\n",
    "    def __init__(self, inputs, outputs):\n",
    "        self.x = inputs\n",
    "        self.x = self.x.to(device)\n",
    "        self.y = outputs\n",
    "        self.y = self.y.to(device)\n",
    "        self.len = len(inputs)\n",
    "    \n",
    "    # Getter\n",
    "    def __getitem__(self, index):\n",
    "        return self.x[index], self.y[index]\n",
    "    \n",
    "    # Get number of samples\n",
    "    def __len__(self):\n",
    "        return self.len"
   ]
  },
  {
   "cell_type": "code",
   "execution_count": 395,
   "id": "c2c766830620e28e",
   "metadata": {
    "collapsed": false,
    "ExecuteTime": {
     "end_time": "2024-03-24T21:11:57.956802Z",
     "start_time": "2024-03-24T21:11:57.954161Z"
    }
   },
   "outputs": [],
   "source": [
    "# Making Model\n",
    "class ColorPredictor(torch.nn.Module):\n",
    "    #Constructor\n",
    "    def __init__(self):\n",
    "        super(ColorPredictor, self).__init__()\n",
    "        self.linear1 = torch.nn.Linear(45, 20, device= device) #length of encoded word vectors\n",
    "        self.linear2 = torch.nn.Linear(20,10, device= device)\n",
    "        self.linear3 = torch.nn.Linear(10,3, device=device)\n",
    "        self.reLU = torch.nn.ReLU()\n",
    "        \n",
    "    # Prediction\n",
    "    def forward(self, x: torch.Tensor) -> torch.Tensor:\n",
    "        out = self.linear1(x)\n",
    "        out = self.reLU(out)\n",
    "        out = self.linear2(out)\n",
    "        out = self.reLU(out)\n",
    "        out = self.linear3(out)\n",
    "        return out"
   ]
  },
  {
   "cell_type": "code",
   "execution_count": 396,
   "id": "58e2c0d9df94ea0d",
   "metadata": {
    "collapsed": false,
    "ExecuteTime": {
     "end_time": "2024-03-24T21:11:57.960452Z",
     "start_time": "2024-03-24T21:11:57.957381Z"
    }
   },
   "outputs": [
    {
     "data": {
      "text/plain": "ColorPredictor(\n  (linear1): Linear(in_features=45, out_features=20, bias=True)\n  (linear2): Linear(in_features=20, out_features=10, bias=True)\n  (linear3): Linear(in_features=10, out_features=3, bias=True)\n  (reLU): ReLU()\n)"
     },
     "execution_count": 396,
     "metadata": {},
     "output_type": "execute_result"
    }
   ],
   "source": [
    "# Create model\n",
    "\n",
    "model = ColorPredictor()\n",
    "model.to(device)\n"
   ]
  },
  {
   "cell_type": "code",
   "execution_count": 397,
   "id": "2269999370cc2734",
   "metadata": {
    "collapsed": false,
    "ExecuteTime": {
     "end_time": "2024-03-24T21:11:57.963217Z",
     "start_time": "2024-03-24T21:11:57.961028Z"
    }
   },
   "outputs": [
    {
     "name": "stdout",
     "output_type": "stream",
     "text": [
      "864\n",
      "216\n"
     ]
    }
   ],
   "source": [
    "# create train/test split\n",
    "train_size = int(0.8 * len(inputs))\n",
    "print(train_size)\n",
    "print(len(inputs)- train_size)\n",
    "train_data = Data(inputs[:train_size], outputs[:train_size])\n",
    "test_data = Data(inputs[train_size:], outputs[train_size:])"
   ]
  },
  {
   "cell_type": "code",
   "execution_count": 398,
   "id": "2941de52ae0a2892",
   "metadata": {
    "collapsed": false,
    "ExecuteTime": {
     "end_time": "2024-03-24T21:11:57.966592Z",
     "start_time": "2024-03-24T21:11:57.963997Z"
    }
   },
   "outputs": [],
   "source": [
    "# create DataLoaders\n",
    "train_loader = DataLoader(dataset = train_data, batch_size=2)\n",
    "test_loader = DataLoader(dataset = test_data, batch_size=2)"
   ]
  },
  {
   "cell_type": "code",
   "execution_count": 399,
   "id": "a5833d7bc464d396",
   "metadata": {
    "collapsed": false,
    "ExecuteTime": {
     "end_time": "2024-03-24T21:11:57.971029Z",
     "start_time": "2024-03-24T21:11:57.968450Z"
    }
   },
   "outputs": [],
   "source": [
    "# criterion & optimizer\n",
    "criterion = nn.MSELoss()\n",
    "#criterion = nn.L1Loss()\n",
    "adam = torch.optim.Adam(model.parameters())\n",
    "# adamw = torch.optim.AdamW(model.parameters())"
   ]
  },
  {
   "cell_type": "code",
   "execution_count": 400,
   "id": "a769fc8adfa2ba38",
   "metadata": {
    "collapsed": false,
    "ExecuteTime": {
     "end_time": "2024-03-24T21:12:00.427762Z",
     "start_time": "2024-03-24T21:11:57.971510Z"
    }
   },
   "outputs": [
    {
     "name": "stdout",
     "output_type": "stream",
     "text": [
      "tensor(231.4882, grad_fn=<MseLossBackward0>)\n"
     ]
    }
   ],
   "source": [
    "# train & test loops\n",
    "import copy\n",
    "import numpy as np\n",
    "torch.manual_seed(42)\n",
    "\n",
    "epochs = 20\n",
    "\n",
    "epoch_count = []\n",
    "loss_values = []\n",
    "test_loss_values = []\n",
    "best_mse = np.inf\n",
    "best_weights = None\n",
    "\n",
    "\n",
    "for epoch in range(epochs):\n",
    "    # Train\n",
    "    model.train()\n",
    "    for x,y in train_loader:\n",
    "        y_pred = model(x)\n",
    "        loss = criterion(y_pred.float(), y.float())\n",
    "        adam.zero_grad()\n",
    "        loss.backward()\n",
    "        adam.step()\n",
    "        \n",
    "        \n",
    "     # test\n",
    "    model.eval()\n",
    "    for x,y in test_loader:\n",
    "        test_pred = model(x)           \n",
    "        test_loss = criterion(test_pred, y)\n",
    "        if test_loss < best_mse:\n",
    "            best_mse = test_loss\n",
    "            best_weights = copy.deepcopy(model.state_dict())\n",
    "            \n",
    "\n",
    "\n",
    "print(best_mse)    "
   ]
  },
  {
   "cell_type": "code",
   "outputs": [],
   "source": [],
   "metadata": {
    "collapsed": false
   },
   "id": "c31402a2241ced5d"
  },
  {
   "cell_type": "markdown",
   "source": [
    "# Demo 1"
   ],
   "metadata": {
    "collapsed": false
   },
   "id": "90cb4a97edcc448c"
  },
  {
   "cell_type": "code",
   "outputs": [],
   "source": [
    "from pathlib import Path\n",
    "\n",
    "MODEL_PATH = Path('models')\n",
    "MODEL_PATH.mkdir(parents=True, exist_ok=True)\n",
    "MODEL_NAME = 'demo_model.pth'\n",
    "MODEL_SAVE_PATH = MODEL_PATH / MODEL_NAME\n",
    "\n",
    "torch.save(model.state_dict(), f=MODEL_SAVE_PATH)"
   ],
   "metadata": {
    "collapsed": false,
    "ExecuteTime": {
     "end_time": "2024-03-24T21:12:00.433111Z",
     "start_time": "2024-03-24T21:12:00.428673Z"
    }
   },
   "id": "4de85c3c0a63fa4b",
   "execution_count": 401
  },
  {
   "cell_type": "code",
   "outputs": [
    {
     "data": {
      "text/plain": "<All keys matched successfully>"
     },
     "execution_count": 402,
     "metadata": {},
     "output_type": "execute_result"
    }
   ],
   "source": [
    "model.load_state_dict(torch.load(MODEL_SAVE_PATH))"
   ],
   "metadata": {
    "collapsed": false,
    "ExecuteTime": {
     "end_time": "2024-03-24T21:12:00.437112Z",
     "start_time": "2024-03-24T21:12:00.433710Z"
    }
   },
   "id": "d9ae925c40db39b8",
   "execution_count": 402
  },
  {
   "cell_type": "code",
   "outputs": [],
   "source": [
    "predictions = []\n",
    "actual = []\n",
    "\n",
    "total_data = Data(inputs, outputs)\n",
    "total_loader = DataLoader(total_data, batch_size=2)\n",
    "\n",
    "model.eval()\n",
    "with torch.inference_mode():\n",
    "    for x,y in total_loader:\n",
    "        test_pred = model(x)\n",
    "        predictions.append(test_pred)\n",
    "        actual.append(y)\n",
    "        test_loss = criterion(test_pred, y)\n"
   ],
   "metadata": {
    "collapsed": false,
    "ExecuteTime": {
     "end_time": "2024-03-24T21:12:00.469017Z",
     "start_time": "2024-03-24T21:12:00.437858Z"
    }
   },
   "id": "4836df7182cfebf1",
   "execution_count": 403
  },
  {
   "cell_type": "code",
   "outputs": [
    {
     "name": "stdout",
     "output_type": "stream",
     "text": [
      "[tensor([[106.7579, 140.2577, 120.0701],\n",
      "        [105.7422, 138.9220, 118.9301]]), tensor([[104.7265, 137.5863, 117.7900],\n",
      "        [103.7108, 136.2505, 116.6499]]), tensor([[102.6951, 134.9148, 115.5098],\n",
      "        [101.6794, 133.5791, 114.3698]]), tensor([[100.6637, 132.2434, 113.2297],\n",
      "        [ 99.6480, 130.9077, 112.0896]]), tensor([[ 98.6323, 129.5719, 110.9495],\n",
      "        [ 97.6166, 128.2362, 109.8094]]), tensor([[ 96.6009, 126.9005, 108.6694],\n",
      "        [ 95.5852, 125.5647, 107.5293]]), tensor([[ 94.5695, 124.2290, 106.3892],\n",
      "        [ 93.5538, 122.8933, 105.2492]]), tensor([[ 92.5381, 121.5576, 104.1091],\n",
      "        [ 91.5224, 120.2218, 102.9690]]), tensor([[ 90.5067, 118.8861, 101.8289],\n",
      "        [ 89.4910, 117.5504, 100.6889]]), tensor([[ 88.4753, 116.2147,  99.5488],\n",
      "        [ 87.4596, 114.8789,  98.4087]])]\n",
      "[tensor([[113, 221, 120],\n",
      "        [ 53, 191, 116]]), tensor([[181,  61, 238],\n",
      "        [ 84, 179,  60]]), tensor([[ 22,  64,  85],\n",
      "        [ 31, 208, 249]]), tensor([[ 68, 238,  98],\n",
      "        [239, 217, 198]]), tensor([[141, 120, 127],\n",
      "        [ 83,  16,  40]]), tensor([[103,  91, 143],\n",
      "        [113,  58, 208]]), tensor([[231, 168,  70],\n",
      "        [111, 205, 191]]), tensor([[208, 133,  25],\n",
      "        [213, 129,  25]]), tensor([[189, 146, 211],\n",
      "        [234,  17,   9]]), tensor([[ 33, 208, 112],\n",
      "        [ 68,  84, 142]])]\n"
     ]
    }
   ],
   "source": [
    "print(predictions[0:10])\n",
    "print(actual[0:10])"
   ],
   "metadata": {
    "collapsed": false,
    "ExecuteTime": {
     "end_time": "2024-03-24T21:12:00.473882Z",
     "start_time": "2024-03-24T21:12:00.469818Z"
    }
   },
   "id": "a894aae10321204e",
   "execution_count": 404
  },
  {
   "cell_type": "code",
   "outputs": [],
   "source": [
    "from rgb_render import swatches_from_tensors, create_colored_squares\n",
    "demo_actual = torch.tensor((5,2,3), dtype = torch.float)\n",
    "demo_actual = torch.cat(actual[0:5], dim=0)\n",
    "demo_pred = torch.tensor((5,2,3), dtype = torch.float)\n",
    "demo_pred = torch.cat(predictions[0:5], dim=0)\n",
    "\n",
    "for i in range(10):\n",
    "    swatches_from_tensors(demo_actual[i,:], demo_pred[i,:])\n",
    "\n",
    "\n",
    "\n"
   ],
   "metadata": {
    "collapsed": false,
    "ExecuteTime": {
     "end_time": "2024-03-24T21:12:16.181761Z",
     "start_time": "2024-03-24T21:12:00.474624Z"
    }
   },
   "id": "f032a70cf8d9c73e",
   "execution_count": 405
  },
  {
   "cell_type": "code",
   "outputs": [],
   "source": [],
   "metadata": {
    "collapsed": false,
    "ExecuteTime": {
     "end_time": "2024-03-24T21:12:16.185146Z",
     "start_time": "2024-03-24T21:12:16.183130Z"
    }
   },
   "id": "71f4b99ac13bce8e",
   "execution_count": 405
  }
 ],
 "metadata": {
  "kernelspec": {
   "display_name": "Python 3",
   "language": "python",
   "name": "python3"
  },
  "language_info": {
   "codemirror_mode": {
    "name": "ipython",
    "version": 3
   },
   "file_extension": ".py",
   "mimetype": "text/x-python",
   "name": "python",
   "nbconvert_exporter": "python",
   "pygments_lexer": "ipython3",
   "version": "3.10.10"
  }
 },
 "nbformat": 4,
 "nbformat_minor": 5
}
